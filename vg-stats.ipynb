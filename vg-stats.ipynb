{
 "metadata": {
  "language_info": {
   "codemirror_mode": {
    "name": "ipython",
    "version": 3
   },
   "file_extension": ".py",
   "mimetype": "text/x-python",
   "name": "python",
   "nbconvert_exporter": "python",
   "pygments_lexer": "ipython3",
   "version": "3.9.0-final"
  },
  "orig_nbformat": 2,
  "kernelspec": {
   "name": "python3",
   "display_name": "Python 3",
   "language": "python"
  }
 },
 "nbformat": 4,
 "nbformat_minor": 2,
 "cells": [
  {
   "source": [
    "# Data Analysis for Video Game Sales \n",
    "## Karlo Mangubat\n",
    "## 20 Jan 2021\n"
   ],
   "cell_type": "markdown",
   "metadata": {}
  },
  {
   "cell_type": "code",
   "execution_count": 1,
   "metadata": {},
   "outputs": [],
   "source": [
    "import pandas as pd"
   ]
  },
  {
   "cell_type": "code",
   "execution_count": 2,
   "metadata": {},
   "outputs": [],
   "source": [
    "df = pd.read_csv('./vgsales.csv')"
   ]
  },
  {
   "source": [
    "### Here is the dataset we are looking at:"
   ],
   "cell_type": "markdown",
   "metadata": {}
  },
  {
   "cell_type": "code",
   "execution_count": 3,
   "metadata": {},
   "outputs": [
    {
     "output_type": "execute_result",
     "data": {
      "text/plain": [
       "        Rank                                              Name Platform  \\\n",
       "0          1                                        Wii Sports      Wii   \n",
       "1          2                                 Super Mario Bros.      NES   \n",
       "2          3                                    Mario Kart Wii      Wii   \n",
       "3          4                                 Wii Sports Resort      Wii   \n",
       "4          5                          Pokemon Red/Pokemon Blue       GB   \n",
       "...      ...                                               ...      ...   \n",
       "16593  16596                Woody Woodpecker in Crazy Castle 5      GBA   \n",
       "16594  16597                     Men in Black II: Alien Escape       GC   \n",
       "16595  16598  SCORE International Baja 1000: The Official Game      PS2   \n",
       "16596  16599                                        Know How 2       DS   \n",
       "16597  16600                                  Spirits & Spells      GBA   \n",
       "\n",
       "         Year         Genre   Publisher  NA_Sales  EU_Sales  JP_Sales  \\\n",
       "0      2006.0        Sports    Nintendo     41.49     29.02      3.77   \n",
       "1      1985.0      Platform    Nintendo     29.08      3.58      6.81   \n",
       "2      2008.0        Racing    Nintendo     15.85     12.88      3.79   \n",
       "3      2009.0        Sports    Nintendo     15.75     11.01      3.28   \n",
       "4      1996.0  Role-Playing    Nintendo     11.27      8.89     10.22   \n",
       "...       ...           ...         ...       ...       ...       ...   \n",
       "16593  2002.0      Platform       Kemco      0.01      0.00      0.00   \n",
       "16594  2003.0       Shooter  Infogrames      0.01      0.00      0.00   \n",
       "16595  2008.0        Racing  Activision      0.00      0.00      0.00   \n",
       "16596  2010.0        Puzzle    7G//AMES      0.00      0.01      0.00   \n",
       "16597  2003.0      Platform     Wanadoo      0.01      0.00      0.00   \n",
       "\n",
       "       Other_Sales  Global_Sales  \n",
       "0             8.46         82.74  \n",
       "1             0.77         40.24  \n",
       "2             3.31         35.82  \n",
       "3             2.96         33.00  \n",
       "4             1.00         31.37  \n",
       "...            ...           ...  \n",
       "16593         0.00          0.01  \n",
       "16594         0.00          0.01  \n",
       "16595         0.00          0.01  \n",
       "16596         0.00          0.01  \n",
       "16597         0.00          0.01  \n",
       "\n",
       "[16598 rows x 11 columns]"
      ],
      "text/html": "<div>\n<style scoped>\n    .dataframe tbody tr th:only-of-type {\n        vertical-align: middle;\n    }\n\n    .dataframe tbody tr th {\n        vertical-align: top;\n    }\n\n    .dataframe thead th {\n        text-align: right;\n    }\n</style>\n<table border=\"1\" class=\"dataframe\">\n  <thead>\n    <tr style=\"text-align: right;\">\n      <th></th>\n      <th>Rank</th>\n      <th>Name</th>\n      <th>Platform</th>\n      <th>Year</th>\n      <th>Genre</th>\n      <th>Publisher</th>\n      <th>NA_Sales</th>\n      <th>EU_Sales</th>\n      <th>JP_Sales</th>\n      <th>Other_Sales</th>\n      <th>Global_Sales</th>\n    </tr>\n  </thead>\n  <tbody>\n    <tr>\n      <th>0</th>\n      <td>1</td>\n      <td>Wii Sports</td>\n      <td>Wii</td>\n      <td>2006.0</td>\n      <td>Sports</td>\n      <td>Nintendo</td>\n      <td>41.49</td>\n      <td>29.02</td>\n      <td>3.77</td>\n      <td>8.46</td>\n      <td>82.74</td>\n    </tr>\n    <tr>\n      <th>1</th>\n      <td>2</td>\n      <td>Super Mario Bros.</td>\n      <td>NES</td>\n      <td>1985.0</td>\n      <td>Platform</td>\n      <td>Nintendo</td>\n      <td>29.08</td>\n      <td>3.58</td>\n      <td>6.81</td>\n      <td>0.77</td>\n      <td>40.24</td>\n    </tr>\n    <tr>\n      <th>2</th>\n      <td>3</td>\n      <td>Mario Kart Wii</td>\n      <td>Wii</td>\n      <td>2008.0</td>\n      <td>Racing</td>\n      <td>Nintendo</td>\n      <td>15.85</td>\n      <td>12.88</td>\n      <td>3.79</td>\n      <td>3.31</td>\n      <td>35.82</td>\n    </tr>\n    <tr>\n      <th>3</th>\n      <td>4</td>\n      <td>Wii Sports Resort</td>\n      <td>Wii</td>\n      <td>2009.0</td>\n      <td>Sports</td>\n      <td>Nintendo</td>\n      <td>15.75</td>\n      <td>11.01</td>\n      <td>3.28</td>\n      <td>2.96</td>\n      <td>33.00</td>\n    </tr>\n    <tr>\n      <th>4</th>\n      <td>5</td>\n      <td>Pokemon Red/Pokemon Blue</td>\n      <td>GB</td>\n      <td>1996.0</td>\n      <td>Role-Playing</td>\n      <td>Nintendo</td>\n      <td>11.27</td>\n      <td>8.89</td>\n      <td>10.22</td>\n      <td>1.00</td>\n      <td>31.37</td>\n    </tr>\n    <tr>\n      <th>...</th>\n      <td>...</td>\n      <td>...</td>\n      <td>...</td>\n      <td>...</td>\n      <td>...</td>\n      <td>...</td>\n      <td>...</td>\n      <td>...</td>\n      <td>...</td>\n      <td>...</td>\n      <td>...</td>\n    </tr>\n    <tr>\n      <th>16593</th>\n      <td>16596</td>\n      <td>Woody Woodpecker in Crazy Castle 5</td>\n      <td>GBA</td>\n      <td>2002.0</td>\n      <td>Platform</td>\n      <td>Kemco</td>\n      <td>0.01</td>\n      <td>0.00</td>\n      <td>0.00</td>\n      <td>0.00</td>\n      <td>0.01</td>\n    </tr>\n    <tr>\n      <th>16594</th>\n      <td>16597</td>\n      <td>Men in Black II: Alien Escape</td>\n      <td>GC</td>\n      <td>2003.0</td>\n      <td>Shooter</td>\n      <td>Infogrames</td>\n      <td>0.01</td>\n      <td>0.00</td>\n      <td>0.00</td>\n      <td>0.00</td>\n      <td>0.01</td>\n    </tr>\n    <tr>\n      <th>16595</th>\n      <td>16598</td>\n      <td>SCORE International Baja 1000: The Official Game</td>\n      <td>PS2</td>\n      <td>2008.0</td>\n      <td>Racing</td>\n      <td>Activision</td>\n      <td>0.00</td>\n      <td>0.00</td>\n      <td>0.00</td>\n      <td>0.00</td>\n      <td>0.01</td>\n    </tr>\n    <tr>\n      <th>16596</th>\n      <td>16599</td>\n      <td>Know How 2</td>\n      <td>DS</td>\n      <td>2010.0</td>\n      <td>Puzzle</td>\n      <td>7G//AMES</td>\n      <td>0.00</td>\n      <td>0.01</td>\n      <td>0.00</td>\n      <td>0.00</td>\n      <td>0.01</td>\n    </tr>\n    <tr>\n      <th>16597</th>\n      <td>16600</td>\n      <td>Spirits &amp; Spells</td>\n      <td>GBA</td>\n      <td>2003.0</td>\n      <td>Platform</td>\n      <td>Wanadoo</td>\n      <td>0.01</td>\n      <td>0.00</td>\n      <td>0.00</td>\n      <td>0.00</td>\n      <td>0.01</td>\n    </tr>\n  </tbody>\n</table>\n<p>16598 rows × 11 columns</p>\n</div>"
     },
     "metadata": {},
     "execution_count": 3
    }
   ],
   "source": [
    "df"
   ]
  },
  {
   "source": [
    " ### Which company is the most common video game publisher?\n",
    " "
   ],
   "cell_type": "markdown",
   "metadata": {}
  },
  {
   "cell_type": "code",
   "execution_count": 42,
   "metadata": {},
   "outputs": [
    {
     "output_type": "execute_result",
     "data": {
      "text/plain": [
       "'Electronic Arts'"
      ]
     },
     "metadata": {},
     "execution_count": 42
    }
   ],
   "source": [
    "most_common_publisher = df['Publisher'].mode()\n",
    "most_common_publisher_name = most_common_publisher\n",
    "most_common_publisher_name[0]"
   ]
  },
  {
   "source": [
    "### What’s the most common platform?"
   ],
   "cell_type": "markdown",
   "metadata": {}
  },
  {
   "cell_type": "code",
   "execution_count": 46,
   "metadata": {},
   "outputs": [
    {
     "output_type": "execute_result",
     "data": {
      "text/plain": [
       "'DS'"
      ]
     },
     "metadata": {},
     "execution_count": 46
    }
   ],
   "source": [
    "most_common_platform = df['Platform'].mode()\n",
    "most_common_platform_value = most_common_platform\n",
    "most_common_platform_value[0]"
   ]
  },
  {
   "source": [
    "### What about the most common genre?"
   ],
   "cell_type": "markdown",
   "metadata": {}
  },
  {
   "cell_type": "code",
   "execution_count": 48,
   "metadata": {},
   "outputs": [
    {
     "output_type": "execute_result",
     "data": {
      "text/plain": [
       "'Action'"
      ]
     },
     "metadata": {},
     "execution_count": 48
    }
   ],
   "source": [
    "most_common_genre = df['Genre'].mode()\n",
    "most_common_genre_value = most_common_genre[0]\n",
    "most_common_genre_value"
   ]
  },
  {
   "source": [
    "### What are the top 20 highest grossing games?"
   ],
   "cell_type": "markdown",
   "metadata": {}
  },
  {
   "cell_type": "code",
   "execution_count": 7,
   "metadata": {},
   "outputs": [
    {
     "output_type": "execute_result",
     "data": {
      "text/plain": [
       "                                            Name  Global_Sales\n",
       "0                                     Wii Sports         82.74\n",
       "1                              Super Mario Bros.         40.24\n",
       "2                                 Mario Kart Wii         35.82\n",
       "3                              Wii Sports Resort         33.00\n",
       "4                       Pokemon Red/Pokemon Blue         31.37\n",
       "5                                         Tetris         30.26\n",
       "6                          New Super Mario Bros.         30.01\n",
       "7                                       Wii Play         29.02\n",
       "8                      New Super Mario Bros. Wii         28.62\n",
       "9                                      Duck Hunt         28.31\n",
       "10                                    Nintendogs         24.76\n",
       "11                                 Mario Kart DS         23.42\n",
       "12                   Pokemon Gold/Pokemon Silver         23.10\n",
       "13                                       Wii Fit         22.72\n",
       "14                                  Wii Fit Plus         22.00\n",
       "15                            Kinect Adventures!         21.82\n",
       "16                            Grand Theft Auto V         21.40\n",
       "17                 Grand Theft Auto: San Andreas         20.81\n",
       "18                             Super Mario World         20.61\n",
       "19  Brain Age: Train Your Brain in Minutes a Day         20.22"
      ],
      "text/html": "<div>\n<style scoped>\n    .dataframe tbody tr th:only-of-type {\n        vertical-align: middle;\n    }\n\n    .dataframe tbody tr th {\n        vertical-align: top;\n    }\n\n    .dataframe thead th {\n        text-align: right;\n    }\n</style>\n<table border=\"1\" class=\"dataframe\">\n  <thead>\n    <tr style=\"text-align: right;\">\n      <th></th>\n      <th>Name</th>\n      <th>Global_Sales</th>\n    </tr>\n  </thead>\n  <tbody>\n    <tr>\n      <th>0</th>\n      <td>Wii Sports</td>\n      <td>82.74</td>\n    </tr>\n    <tr>\n      <th>1</th>\n      <td>Super Mario Bros.</td>\n      <td>40.24</td>\n    </tr>\n    <tr>\n      <th>2</th>\n      <td>Mario Kart Wii</td>\n      <td>35.82</td>\n    </tr>\n    <tr>\n      <th>3</th>\n      <td>Wii Sports Resort</td>\n      <td>33.00</td>\n    </tr>\n    <tr>\n      <th>4</th>\n      <td>Pokemon Red/Pokemon Blue</td>\n      <td>31.37</td>\n    </tr>\n    <tr>\n      <th>5</th>\n      <td>Tetris</td>\n      <td>30.26</td>\n    </tr>\n    <tr>\n      <th>6</th>\n      <td>New Super Mario Bros.</td>\n      <td>30.01</td>\n    </tr>\n    <tr>\n      <th>7</th>\n      <td>Wii Play</td>\n      <td>29.02</td>\n    </tr>\n    <tr>\n      <th>8</th>\n      <td>New Super Mario Bros. Wii</td>\n      <td>28.62</td>\n    </tr>\n    <tr>\n      <th>9</th>\n      <td>Duck Hunt</td>\n      <td>28.31</td>\n    </tr>\n    <tr>\n      <th>10</th>\n      <td>Nintendogs</td>\n      <td>24.76</td>\n    </tr>\n    <tr>\n      <th>11</th>\n      <td>Mario Kart DS</td>\n      <td>23.42</td>\n    </tr>\n    <tr>\n      <th>12</th>\n      <td>Pokemon Gold/Pokemon Silver</td>\n      <td>23.10</td>\n    </tr>\n    <tr>\n      <th>13</th>\n      <td>Wii Fit</td>\n      <td>22.72</td>\n    </tr>\n    <tr>\n      <th>14</th>\n      <td>Wii Fit Plus</td>\n      <td>22.00</td>\n    </tr>\n    <tr>\n      <th>15</th>\n      <td>Kinect Adventures!</td>\n      <td>21.82</td>\n    </tr>\n    <tr>\n      <th>16</th>\n      <td>Grand Theft Auto V</td>\n      <td>21.40</td>\n    </tr>\n    <tr>\n      <th>17</th>\n      <td>Grand Theft Auto: San Andreas</td>\n      <td>20.81</td>\n    </tr>\n    <tr>\n      <th>18</th>\n      <td>Super Mario World</td>\n      <td>20.61</td>\n    </tr>\n    <tr>\n      <th>19</th>\n      <td>Brain Age: Train Your Brain in Minutes a Day</td>\n      <td>20.22</td>\n    </tr>\n  </tbody>\n</table>\n</div>"
     },
     "metadata": {},
     "execution_count": 7
    }
   ],
   "source": [
    "top_twenty_highest_grossing_games = df[['Name', 'Global_Sales']].head(20)\n",
    "top_twenty_highest_grossing_games "
   ]
  },
  {
   "source": [
    "### For North American video game sales, what’s the median?\n",
    "- Provide a secondary output showing ten games surrounding the median sales output\n",
    "    - assume that games with same median value are sorted in descending order"
   ],
   "cell_type": "markdown",
   "metadata": {}
  },
  {
   "cell_type": "code",
   "execution_count": 53,
   "metadata": {},
   "outputs": [
    {
     "output_type": "execute_result",
     "data": {
      "text/plain": [
       "0.08"
      ]
     },
     "metadata": {},
     "execution_count": 53
    }
   ],
   "source": [
    "na_median_sales = df[['Name','NA_Sales']].sort_values('NA_Sales', ascending=False).median()\n",
    "na_median_sales_value = na_median_sales[0]\n",
    "na_median_sales_value"
   ]
  },
  {
   "cell_type": "code",
   "execution_count": 59,
   "metadata": {},
   "outputs": [
    {
     "output_type": "execute_result",
     "data": {
      "text/plain": [
       "        Rank                                              Name  NA_Sales\n",
       "11492  11494                      Ultimate Shooting Collection      0.08\n",
       "11455  11457                                        The Hidden      0.08\n",
       "11432  11434                              DanceDanceRevolution      0.08\n",
       "11431  11433  Little League World Series Baseball: Double Play      0.08\n",
       "11403  11405           My English Coach: Para Hispanoparlantes      0.08\n",
       "11390  11392      Super Robot Taisen OG Saga: Endless Frontier      0.08\n",
       "11386  11388                                     Sushi Academy      0.08\n",
       "11376  11378                         Face Racers: Photo Finish      0.08\n",
       "11375  11377                   Dream Day: Wedding Destinations      0.08\n",
       "11371  11373            Death Jr. and the Science Fair of Doom      0.08"
      ],
      "text/html": "<div>\n<style scoped>\n    .dataframe tbody tr th:only-of-type {\n        vertical-align: middle;\n    }\n\n    .dataframe tbody tr th {\n        vertical-align: top;\n    }\n\n    .dataframe thead th {\n        text-align: right;\n    }\n</style>\n<table border=\"1\" class=\"dataframe\">\n  <thead>\n    <tr style=\"text-align: right;\">\n      <th></th>\n      <th>Rank</th>\n      <th>Name</th>\n      <th>NA_Sales</th>\n    </tr>\n  </thead>\n  <tbody>\n    <tr>\n      <th>11492</th>\n      <td>11494</td>\n      <td>Ultimate Shooting Collection</td>\n      <td>0.08</td>\n    </tr>\n    <tr>\n      <th>11455</th>\n      <td>11457</td>\n      <td>The Hidden</td>\n      <td>0.08</td>\n    </tr>\n    <tr>\n      <th>11432</th>\n      <td>11434</td>\n      <td>DanceDanceRevolution</td>\n      <td>0.08</td>\n    </tr>\n    <tr>\n      <th>11431</th>\n      <td>11433</td>\n      <td>Little League World Series Baseball: Double Play</td>\n      <td>0.08</td>\n    </tr>\n    <tr>\n      <th>11403</th>\n      <td>11405</td>\n      <td>My English Coach: Para Hispanoparlantes</td>\n      <td>0.08</td>\n    </tr>\n    <tr>\n      <th>11390</th>\n      <td>11392</td>\n      <td>Super Robot Taisen OG Saga: Endless Frontier</td>\n      <td>0.08</td>\n    </tr>\n    <tr>\n      <th>11386</th>\n      <td>11388</td>\n      <td>Sushi Academy</td>\n      <td>0.08</td>\n    </tr>\n    <tr>\n      <th>11376</th>\n      <td>11378</td>\n      <td>Face Racers: Photo Finish</td>\n      <td>0.08</td>\n    </tr>\n    <tr>\n      <th>11375</th>\n      <td>11377</td>\n      <td>Dream Day: Wedding Destinations</td>\n      <td>0.08</td>\n    </tr>\n    <tr>\n      <th>11371</th>\n      <td>11373</td>\n      <td>Death Jr. and the Science Fair of Doom</td>\n      <td>0.08</td>\n    </tr>\n  </tbody>\n</table>\n</div>"
     },
     "metadata": {},
     "execution_count": 59
    }
   ],
   "source": [
    "ten_median_na_seller_names = df[['Rank','Name','NA_Sales']].loc[df['NA_Sales'] == 0.08].sort_values('Rank', ascending=False).head(10)\n",
    "ten_median_na_seller_names"
   ]
  },
  {
   "source": [
    "### For the top-selling game of all time, how many standard deviations above/below the mean are its sales for North America?"
   ],
   "cell_type": "markdown",
   "metadata": {}
  },
  {
   "source": [
    "#### First, we need to find the top-selling game:"
   ],
   "cell_type": "markdown",
   "metadata": {}
  },
  {
   "cell_type": "code",
   "execution_count": 9,
   "metadata": {},
   "outputs": [
    {
     "output_type": "execute_result",
     "data": {
      "text/plain": [
       "41.49"
      ]
     },
     "metadata": {},
     "execution_count": 9
    }
   ],
   "source": [
    "top_selling_game = df['NA_Sales'].head(1)\n",
    "top_selling_game[0]"
   ]
  },
  {
   "source": [
    "#### Then, we find the average NA sales:"
   ],
   "cell_type": "markdown",
   "metadata": {}
  },
  {
   "cell_type": "code",
   "execution_count": 10,
   "metadata": {},
   "outputs": [
    {
     "output_type": "execute_result",
     "data": {
      "text/plain": [
       "0.26466742981082064"
      ]
     },
     "metadata": {},
     "execution_count": 10
    }
   ],
   "source": [
    "average_NA_Sales = df['NA_Sales'].mean()\n",
    "average_NA_Sales"
   ]
  },
  {
   "source": [
    "#### Lastly, find the standard deviation for NA Sales:"
   ],
   "cell_type": "markdown",
   "metadata": {}
  },
  {
   "cell_type": "code",
   "execution_count": 11,
   "metadata": {},
   "outputs": [
    {
     "output_type": "execute_result",
     "data": {
      "text/plain": [
       "0.8166830292988796"
      ]
     },
     "metadata": {},
     "execution_count": 11
    }
   ],
   "source": [
    "standard_deviation_NA_Sales = df['NA_Sales'].std()\n",
    "standard_deviation_NA_Sales"
   ]
  },
  {
   "source": [
    "#### To calculate how many standard deviations from the mean, we find the difference of the top selling game and the average sales for NA and divide by the standard deviation. So,"
   ],
   "cell_type": "markdown",
   "metadata": {}
  },
  {
   "cell_type": "code",
   "execution_count": 61,
   "metadata": {},
   "outputs": [
    {
     "output_type": "execute_result",
     "data": {
      "text/plain": [
       "50.47898767479108"
      ]
     },
     "metadata": {},
     "execution_count": 61
    }
   ],
   "source": [
    "standard_deviations_above_mean = (top_selling_game - average_NA_Sales) / standard_deviation_NA_Sales\n",
    "\n",
    "standard_deviations_above_mean_value = standard_deviations_above_mean[0]\n",
    "\n",
    "standard_deviations_above_mean_value\n"
   ]
  },
  {
   "source": [
    "### The Nintendo Wii seems to have outdone itself with games. How does its average number of sales compare with all of the other platforms?"
   ],
   "cell_type": "markdown",
   "metadata": {}
  },
  {
   "cell_type": "code",
   "execution_count": 67,
   "metadata": {},
   "outputs": [
    {
     "output_type": "execute_result",
     "data": {
      "text/plain": [
       "   Platform  Global_Sales\n",
       "0      2600      0.729925\n",
       "1       3DO      0.033333\n",
       "2       3DS      0.486169\n",
       "3        DC      0.307115\n",
       "4        DS      0.380254\n",
       "5        GB      2.606633\n",
       "6       GBA      0.387470\n",
       "7        GC      0.358561\n",
       "8       GEN      1.050370\n",
       "9        GG      0.040000\n",
       "10      N64      0.686144\n",
       "11      NES      2.561939\n",
       "12       NG      0.120000\n",
       "13       PC      0.269604\n",
       "14     PCFX      0.030000\n",
       "15       PS      0.610920\n",
       "16      PS2      0.581046\n",
       "17      PS3      0.720722\n",
       "18      PS4      0.827679\n",
       "19      PSP      0.244254\n",
       "20      PSV      0.149952\n",
       "21      SAT      0.194162\n",
       "22      SCD      0.311667\n",
       "23     SNES      0.837029\n",
       "24     TG16      0.080000\n",
       "25       WS      0.236667\n",
       "26      Wii      0.699404\n",
       "27     WiiU      0.572448\n",
       "28     X360      0.774672\n",
       "29       XB      0.313422\n",
       "30     XOne      0.662254"
      ],
      "text/html": "<div>\n<style scoped>\n    .dataframe tbody tr th:only-of-type {\n        vertical-align: middle;\n    }\n\n    .dataframe tbody tr th {\n        vertical-align: top;\n    }\n\n    .dataframe thead th {\n        text-align: right;\n    }\n</style>\n<table border=\"1\" class=\"dataframe\">\n  <thead>\n    <tr style=\"text-align: right;\">\n      <th></th>\n      <th>Platform</th>\n      <th>Global_Sales</th>\n    </tr>\n  </thead>\n  <tbody>\n    <tr>\n      <th>0</th>\n      <td>2600</td>\n      <td>0.729925</td>\n    </tr>\n    <tr>\n      <th>1</th>\n      <td>3DO</td>\n      <td>0.033333</td>\n    </tr>\n    <tr>\n      <th>2</th>\n      <td>3DS</td>\n      <td>0.486169</td>\n    </tr>\n    <tr>\n      <th>3</th>\n      <td>DC</td>\n      <td>0.307115</td>\n    </tr>\n    <tr>\n      <th>4</th>\n      <td>DS</td>\n      <td>0.380254</td>\n    </tr>\n    <tr>\n      <th>5</th>\n      <td>GB</td>\n      <td>2.606633</td>\n    </tr>\n    <tr>\n      <th>6</th>\n      <td>GBA</td>\n      <td>0.387470</td>\n    </tr>\n    <tr>\n      <th>7</th>\n      <td>GC</td>\n      <td>0.358561</td>\n    </tr>\n    <tr>\n      <th>8</th>\n      <td>GEN</td>\n      <td>1.050370</td>\n    </tr>\n    <tr>\n      <th>9</th>\n      <td>GG</td>\n      <td>0.040000</td>\n    </tr>\n    <tr>\n      <th>10</th>\n      <td>N64</td>\n      <td>0.686144</td>\n    </tr>\n    <tr>\n      <th>11</th>\n      <td>NES</td>\n      <td>2.561939</td>\n    </tr>\n    <tr>\n      <th>12</th>\n      <td>NG</td>\n      <td>0.120000</td>\n    </tr>\n    <tr>\n      <th>13</th>\n      <td>PC</td>\n      <td>0.269604</td>\n    </tr>\n    <tr>\n      <th>14</th>\n      <td>PCFX</td>\n      <td>0.030000</td>\n    </tr>\n    <tr>\n      <th>15</th>\n      <td>PS</td>\n      <td>0.610920</td>\n    </tr>\n    <tr>\n      <th>16</th>\n      <td>PS2</td>\n      <td>0.581046</td>\n    </tr>\n    <tr>\n      <th>17</th>\n      <td>PS3</td>\n      <td>0.720722</td>\n    </tr>\n    <tr>\n      <th>18</th>\n      <td>PS4</td>\n      <td>0.827679</td>\n    </tr>\n    <tr>\n      <th>19</th>\n      <td>PSP</td>\n      <td>0.244254</td>\n    </tr>\n    <tr>\n      <th>20</th>\n      <td>PSV</td>\n      <td>0.149952</td>\n    </tr>\n    <tr>\n      <th>21</th>\n      <td>SAT</td>\n      <td>0.194162</td>\n    </tr>\n    <tr>\n      <th>22</th>\n      <td>SCD</td>\n      <td>0.311667</td>\n    </tr>\n    <tr>\n      <th>23</th>\n      <td>SNES</td>\n      <td>0.837029</td>\n    </tr>\n    <tr>\n      <th>24</th>\n      <td>TG16</td>\n      <td>0.080000</td>\n    </tr>\n    <tr>\n      <th>25</th>\n      <td>WS</td>\n      <td>0.236667</td>\n    </tr>\n    <tr>\n      <th>26</th>\n      <td>Wii</td>\n      <td>0.699404</td>\n    </tr>\n    <tr>\n      <th>27</th>\n      <td>WiiU</td>\n      <td>0.572448</td>\n    </tr>\n    <tr>\n      <th>28</th>\n      <td>X360</td>\n      <td>0.774672</td>\n    </tr>\n    <tr>\n      <th>29</th>\n      <td>XB</td>\n      <td>0.313422</td>\n    </tr>\n    <tr>\n      <th>30</th>\n      <td>XOne</td>\n      <td>0.662254</td>\n    </tr>\n  </tbody>\n</table>\n</div>"
     },
     "metadata": {},
     "execution_count": 67
    }
   ],
   "source": [
    "compare_average = df.groupby('Platform', as_index=False).Global_Sales.mean()\n",
    "compare_average\n"
   ]
  },
  {
   "source": [
    "### Below, we are comparing the average sales for PS4 and Wii respectively:"
   ],
   "cell_type": "markdown",
   "metadata": {}
  },
  {
   "cell_type": "code",
   "execution_count": 69,
   "metadata": {},
   "outputs": [
    {
     "output_type": "execute_result",
     "data": {
      "text/plain": [
       "True"
      ]
     },
     "metadata": {},
     "execution_count": 69
    }
   ],
   "source": [
    "compare_average_value = compare_average.iloc[18].Global_Sales\n",
    "compare_average_value >= compare_average.iloc[0].Global_Sales"
   ]
  },
  {
   "source": [
    "### New Question 1: Show me the counts for each platform"
   ],
   "cell_type": "markdown",
   "metadata": {}
  },
  {
   "cell_type": "code",
   "execution_count": 87,
   "metadata": {},
   "outputs": [
    {
     "output_type": "execute_result",
     "data": {
      "text/plain": [
       "DS      2163\n",
       "PS2     2161\n",
       "PS3     1329\n",
       "Wii     1325\n",
       "X360    1265\n",
       "PSP     1213\n",
       "PS      1196\n",
       "PC       960\n",
       "XB       824\n",
       "GBA      822\n",
       "GC       556\n",
       "3DS      509\n",
       "PSV      413\n",
       "PS4      336\n",
       "N64      319\n",
       "SNES     239\n",
       "XOne     213\n",
       "SAT      173\n",
       "WiiU     143\n",
       "2600     133\n",
       "GB        98\n",
       "NES       98\n",
       "DC        52\n",
       "GEN       27\n",
       "NG        12\n",
       "SCD        6\n",
       "WS         6\n",
       "3DO        3\n",
       "TG16       2\n",
       "GG         1\n",
       "PCFX       1\n",
       "Name: Platform, dtype: int64"
      ]
     },
     "metadata": {},
     "execution_count": 87
    }
   ],
   "source": [
    "platform_counts = df['Platform'].value_counts()\n",
    "platform_counts\n"
   ]
  },
  {
   "cell_type": "code",
   "execution_count": 88,
   "metadata": {},
   "outputs": [
    {
     "output_type": "execute_result",
     "data": {
      "text/plain": [
       "1265"
      ]
     },
     "metadata": {},
     "execution_count": 88
    }
   ],
   "source": [
    "platform_counts_for_x360 = platform_counts[4]\n",
    "platform_counts_for_x360"
   ]
  },
  {
   "source": [
    "### New Question 2: How many Electronic Arts games ended up on the list?"
   ],
   "cell_type": "markdown",
   "metadata": {}
  },
  {
   "cell_type": "code",
   "execution_count": 90,
   "metadata": {},
   "outputs": [
    {
     "output_type": "execute_result",
     "data": {
      "text/plain": [
       "Electronic Arts                 1351\n",
       "Activision                       975\n",
       "Namco Bandai Games               932\n",
       "Ubisoft                          921\n",
       "Konami Digital Entertainment     832\n",
       "                                ... \n",
       "CokeM Interactive                  1\n",
       "Elite                              1\n",
       "Monte Christo Multimedia           1\n",
       "Paon Corporation                   1\n",
       "Max Five                           1\n",
       "Name: Publisher, Length: 578, dtype: int64"
      ]
     },
     "metadata": {},
     "execution_count": 90
    }
   ],
   "source": [
    "platform_counts = df['Publisher'].value_counts()\n",
    "platform_counts"
   ]
  },
  {
   "cell_type": "code",
   "execution_count": 92,
   "metadata": {},
   "outputs": [
    {
     "output_type": "execute_result",
     "data": {
      "text/plain": [
       "1351"
      ]
     },
     "metadata": {},
     "execution_count": 92
    }
   ],
   "source": [
    "platform_counts_value = platform_counts[0]\n",
    "platform_counts_value"
   ]
  },
  {
   "source": [
    "### New Question 3: What is the 100th game on the list?"
   ],
   "cell_type": "markdown",
   "metadata": {}
  },
  {
   "source": [
    "game_on_100th_spot = df.loc[df['Rank'] == 100]\n",
    "game_on_100th_spot"
   ],
   "cell_type": "code",
   "metadata": {},
   "execution_count": 39,
   "outputs": [
    {
     "output_type": "execute_result",
     "data": {
      "text/plain": [
       "    Rank           Name Platform    Year    Genre        Publisher  NA_Sales  \\\n",
       "99   100  Battlefield 3     X360  2011.0  Shooter  Electronic Arts      4.46   \n",
       "\n",
       "    EU_Sales  JP_Sales  Other_Sales  Global_Sales  \n",
       "99      2.13      0.06         0.69          7.34  "
      ],
      "text/html": "<div>\n<style scoped>\n    .dataframe tbody tr th:only-of-type {\n        vertical-align: middle;\n    }\n\n    .dataframe tbody tr th {\n        vertical-align: top;\n    }\n\n    .dataframe thead th {\n        text-align: right;\n    }\n</style>\n<table border=\"1\" class=\"dataframe\">\n  <thead>\n    <tr style=\"text-align: right;\">\n      <th></th>\n      <th>Rank</th>\n      <th>Name</th>\n      <th>Platform</th>\n      <th>Year</th>\n      <th>Genre</th>\n      <th>Publisher</th>\n      <th>NA_Sales</th>\n      <th>EU_Sales</th>\n      <th>JP_Sales</th>\n      <th>Other_Sales</th>\n      <th>Global_Sales</th>\n    </tr>\n  </thead>\n  <tbody>\n    <tr>\n      <th>99</th>\n      <td>100</td>\n      <td>Battlefield 3</td>\n      <td>X360</td>\n      <td>2011.0</td>\n      <td>Shooter</td>\n      <td>Electronic Arts</td>\n      <td>4.46</td>\n      <td>2.13</td>\n      <td>0.06</td>\n      <td>0.69</td>\n      <td>7.34</td>\n    </tr>\n  </tbody>\n</table>\n</div>"
     },
     "metadata": {},
     "execution_count": 39
    }
   ]
  },
  {
   "cell_type": "code",
   "execution_count": 94,
   "metadata": {},
   "outputs": [
    {
     "output_type": "stream",
     "name": "stdout",
     "text": [
      "Success!!!\n"
     ]
    }
   ],
   "source": [
    "def test():\n",
    "\n",
    "    def assert_equal(actual,expected):\n",
    "        assert actual == expected, f\"Expected {expected} but got {actual}\"\n",
    "\n",
    "    assert_equal(most_common_publisher_name[0],'Electronic Arts')\n",
    "    assert_equal(most_common_platform_value[0], 'DS')\n",
    "    assert_equal(most_common_genre_value, 'Action')\n",
    "    assert_equal(top_twenty_highest_grossing_games.iloc[0].Name, 'Wii Sports')\n",
    "    assert_equal(top_twenty_highest_grossing_games.iloc[19].Name, 'Brain Age: Train Your Brain in Minutes a Day')\n",
    "    assert_equal(na_median_sales_value, 0.08)\n",
    "    assert_equal(ten_median_na_seller_names.iloc[0].NA_Sales, 0.08)\n",
    "    assert_equal(standard_deviations_above_mean_value, 50.47898767479108)\n",
    "    assert_equal(compare_average_value >= compare_average.iloc[0].Global_Sales, True)\n",
    "    assert_equal(platform_counts_for_x360, 1265)\n",
    "    assert_equal(platform_counts_value, 1351)\n",
    "    assert_equal(game_on_100th_spot.iloc[0].Name, 'Battlefield 3')\n",
    "    \n",
    "    print(\"Success!!!\")\n",
    "\n",
    "test()"
   ]
  },
  {
   "cell_type": "code",
   "execution_count": null,
   "metadata": {},
   "outputs": [],
   "source": []
  }
 ]
}